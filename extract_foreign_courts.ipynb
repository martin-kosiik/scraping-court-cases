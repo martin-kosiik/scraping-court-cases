{
  "nbformat": 4,
  "nbformat_minor": 0,
  "metadata": {
    "colab": {
      "name": "extract_foreign_courts.ipynb",
      "provenance": [],
      "authorship_tag": "ABX9TyPQE9MN0GvLedg2FIldD361",
      "include_colab_link": true
    },
    "kernelspec": {
      "name": "python3",
      "display_name": "Python 3"
    }
  },
  "cells": [
    {
      "cell_type": "markdown",
      "metadata": {
        "id": "view-in-github",
        "colab_type": "text"
      },
      "source": [
        "<a href=\"https://colab.research.google.com/github/martin-kosiik/scraping-court-cases/blob/master/extract_foreign_courts.ipynb\" target=\"_parent\"><img src=\"https://colab.research.google.com/assets/colab-badge.svg\" alt=\"Open In Colab\"/></a>"
      ]
    },
    {
      "cell_type": "code",
      "metadata": {
        "id": "Tx6esyxLI0mJ"
      },
      "source": [
        "import pandas as pd \n",
        "import numpy as np"
      ],
      "execution_count": 5,
      "outputs": []
    },
    {
      "cell_type": "code",
      "metadata": {
        "colab": {
          "base_uri": "https://localhost:8080/"
        },
        "id": "lslAa1SV6YU1",
        "outputId": "9337a01d-3bda-45ab-cc70-95a6bee87c2a"
      },
      "source": [
        "!pip install razdel"
      ],
      "execution_count": 7,
      "outputs": [
        {
          "output_type": "stream",
          "text": [
            "Collecting razdel\n",
            "  Downloading https://files.pythonhosted.org/packages/15/2c/664223a3924aa6e70479f7d37220b3a658765b9cfe760b4af7ffdc50d38f/razdel-0.5.0-py3-none-any.whl\n",
            "Installing collected packages: razdel\n",
            "Successfully installed razdel-0.5.0\n"
          ],
          "name": "stdout"
        }
      ]
    },
    {
      "cell_type": "code",
      "metadata": {
        "colab": {
          "base_uri": "https://localhost:8080/"
        },
        "id": "jKaAHFKzI6By",
        "outputId": "d60cfb1a-95c5-403a-91ea-3a812b44bdd8"
      },
      "source": [
        "from google.colab import drive\n",
        "drive.mount('/content/drive', force_remount=True)"
      ],
      "execution_count": 15,
      "outputs": [
        {
          "output_type": "stream",
          "text": [
            "Mounted at /content/drive\n"
          ],
          "name": "stdout"
        }
      ]
    },
    {
      "cell_type": "code",
      "metadata": {
        "id": "Y0efa2yrJBfI"
      },
      "source": [
        "final_dataset = pd.read_csv('drive/My Drive/data/final_dataset_2.csv', encoding=\"UTF-8\")\n",
        "\n",
        "arbitrage_rulings_df = pd.read_csv(\"drive/My Drive/data/arbitrage_rulings.csv\", encoding=\"UTF-8\")\n",
        "arbitrage_rulings_df['ruling_date'] = arbitrage_rulings_df.case_id.str.extract('__(\\d{8})( *\\(\\d\\))*$')[0]\n",
        "arbitrage_rulings_df['ruling_date'] = pd.to_datetime(arbitrage_rulings_df['ruling_date'], format='%Y%m%d')\n",
        "arbitrage_rulings_df['starting_year'] = arbitrage_rulings_df.case_id.str.extract('(\\d{4})__\\d{8} *(\\(\\d\\))*$')[0]\n",
        "\n",
        "arbitrage_rulings_df['case_number'] = arbitrage_rulings_df['court_id'] + '-' + arbitrage_rulings_df['case_spec_digit'].astype(int).astype(str) + '/' + \\\n",
        "                                        arbitrage_rulings_df['starting_year'].astype(int).astype(str)\n",
        "\n",
        "\n",
        "key_diff = set(arbitrage_rulings_df['case_number']).intersection(final_dataset['Номер дела'])\n",
        "where_diff = arbitrage_rulings_df['case_number'].isin(key_diff)\n",
        "arbitrage_rulings_df = arbitrage_rulings_df[where_diff]\n",
        "\n",
        "\n",
        "# Remove the the NEWPAGE token and the page number\n",
        "arbitrage_rulings_df[\"proc_text\"] = arbitrage_rulings_df.text.str.replace(\"NEWPAGE \\n\\d\", \"\",\n",
        "                                                                       regex=True)\n",
        "\n",
        "arbitrage_rulings_df[\"proc_text\"] = arbitrage_rulings_df.proc_text.str.replace(\"NEWPAGE\", \"\")"
      ],
      "execution_count": 18,
      "outputs": []
    },
    {
      "cell_type": "code",
      "metadata": {
        "id": "I8zqCq326hAX"
      },
      "source": [
        "from  razdel  import sentenize , tokenize\n",
        "#from  navec  import   Navec \n",
        "def make_tokens(text):\n",
        "  all_tokens_in_text  = []\n",
        "  for sent in sentenize(text):\n",
        "      tokens = [_.text  for  _  in  tokenize(sent.text)]\n",
        "      all_tokens_in_text.append(tokens)\n",
        "  return all_tokens_in_text\n",
        "\n",
        "\n",
        "tokenized_rulings = [make_tokens(ruling) for ruling in arbitrage_rulings_df[\"proc_text\"]]"
      ],
      "execution_count": 19,
      "outputs": []
    },
    {
      "cell_type": "code",
      "metadata": {
        "colab": {
          "base_uri": "https://localhost:8080/",
          "height": 313
        },
        "id": "bKPSHtRYJHVe",
        "outputId": "368b17a5-85a8-4d63-ce4a-03329b828ff4"
      },
      "source": [
        "import spacy\n",
        "from spacy_stanza import StanzaLanguage\n"
      ],
      "execution_count": 5,
      "outputs": [
        {
          "output_type": "error",
          "ename": "ModuleNotFoundError",
          "evalue": "ignored",
          "traceback": [
            "\u001b[0;31m---------------------------------------------------------------------------\u001b[0m",
            "\u001b[0;31mModuleNotFoundError\u001b[0m                       Traceback (most recent call last)",
            "\u001b[0;32m<ipython-input-5-881b8d3d89be>\u001b[0m in \u001b[0;36m<module>\u001b[0;34m()\u001b[0m\n\u001b[1;32m      1\u001b[0m \u001b[0;32mimport\u001b[0m \u001b[0mspacy\u001b[0m\u001b[0;34m\u001b[0m\u001b[0;34m\u001b[0m\u001b[0m\n\u001b[0;32m----> 2\u001b[0;31m \u001b[0;32mfrom\u001b[0m \u001b[0mspacy_stanza\u001b[0m \u001b[0;32mimport\u001b[0m \u001b[0mStanzaLanguage\u001b[0m\u001b[0;34m\u001b[0m\u001b[0;34m\u001b[0m\u001b[0m\n\u001b[0m",
            "\u001b[0;31mModuleNotFoundError\u001b[0m: No module named 'spacy_stanza'",
            "",
            "\u001b[0;31m---------------------------------------------------------------------------\u001b[0;32m\nNOTE: If your import is failing due to a missing package, you can\nmanually install dependencies using either !pip or !apt.\n\nTo view examples of installing some common dependencies, click the\n\"Open Examples\" button below.\n\u001b[0;31m---------------------------------------------------------------------------\u001b[0m\n"
          ]
        }
      ]
    },
    {
      "cell_type": "code",
      "metadata": {
        "colab": {
          "base_uri": "https://localhost:8080/"
        },
        "id": "fbf0esA9Jz5m",
        "outputId": "51eeb5e2-58db-4402-cf25-020448737a08"
      },
      "source": [
        "!pip install stanza\n",
        "!pip install fuzzymatcher"
      ],
      "execution_count": 6,
      "outputs": [
        {
          "output_type": "stream",
          "text": [
            "Collecting stanza\n",
            "\u001b[?25l  Downloading https://files.pythonhosted.org/packages/e7/8b/3a9e7a8d8cb14ad6afffc3983b7a7322a3a24d94ebc978a70746fcffc085/stanza-1.1.1-py3-none-any.whl (227kB)\n",
            "\r\u001b[K     |█▍                              | 10kB 9.0MB/s eta 0:00:01\r\u001b[K     |██▉                             | 20kB 12.7MB/s eta 0:00:01\r\u001b[K     |████▎                           | 30kB 10.5MB/s eta 0:00:01\r\u001b[K     |█████▊                          | 40kB 8.7MB/s eta 0:00:01\r\u001b[K     |███████▏                        | 51kB 6.9MB/s eta 0:00:01\r\u001b[K     |████████▋                       | 61kB 7.6MB/s eta 0:00:01\r\u001b[K     |██████████                      | 71kB 7.9MB/s eta 0:00:01\r\u001b[K     |███████████▌                    | 81kB 8.2MB/s eta 0:00:01\r\u001b[K     |█████████████                   | 92kB 8.5MB/s eta 0:00:01\r\u001b[K     |██████████████▍                 | 102kB 8.7MB/s eta 0:00:01\r\u001b[K     |███████████████▉                | 112kB 8.7MB/s eta 0:00:01\r\u001b[K     |█████████████████▎              | 122kB 8.7MB/s eta 0:00:01\r\u001b[K     |██████████████████▊             | 133kB 8.7MB/s eta 0:00:01\r\u001b[K     |████████████████████▏           | 143kB 8.7MB/s eta 0:00:01\r\u001b[K     |█████████████████████▋          | 153kB 8.7MB/s eta 0:00:01\r\u001b[K     |███████████████████████         | 163kB 8.7MB/s eta 0:00:01\r\u001b[K     |████████████████████████▌       | 174kB 8.7MB/s eta 0:00:01\r\u001b[K     |██████████████████████████      | 184kB 8.7MB/s eta 0:00:01\r\u001b[K     |███████████████████████████▍    | 194kB 8.7MB/s eta 0:00:01\r\u001b[K     |████████████████████████████▉   | 204kB 8.7MB/s eta 0:00:01\r\u001b[K     |██████████████████████████████▎ | 215kB 8.7MB/s eta 0:00:01\r\u001b[K     |███████████████████████████████▊| 225kB 8.7MB/s eta 0:00:01\r\u001b[K     |████████████████████████████████| 235kB 8.7MB/s \n",
            "\u001b[?25hRequirement already satisfied: numpy in /usr/local/lib/python3.6/dist-packages (from stanza) (1.18.5)\n",
            "Requirement already satisfied: torch>=1.3.0 in /usr/local/lib/python3.6/dist-packages (from stanza) (1.7.0+cu101)\n",
            "Requirement already satisfied: requests in /usr/local/lib/python3.6/dist-packages (from stanza) (2.23.0)\n",
            "Requirement already satisfied: tqdm in /usr/local/lib/python3.6/dist-packages (from stanza) (4.41.1)\n",
            "Requirement already satisfied: protobuf in /usr/local/lib/python3.6/dist-packages (from stanza) (3.12.4)\n",
            "Requirement already satisfied: dataclasses in /usr/local/lib/python3.6/dist-packages (from torch>=1.3.0->stanza) (0.7)\n",
            "Requirement already satisfied: typing-extensions in /usr/local/lib/python3.6/dist-packages (from torch>=1.3.0->stanza) (3.7.4.3)\n",
            "Requirement already satisfied: future in /usr/local/lib/python3.6/dist-packages (from torch>=1.3.0->stanza) (0.16.0)\n",
            "Requirement already satisfied: certifi>=2017.4.17 in /usr/local/lib/python3.6/dist-packages (from requests->stanza) (2020.6.20)\n",
            "Requirement already satisfied: chardet<4,>=3.0.2 in /usr/local/lib/python3.6/dist-packages (from requests->stanza) (3.0.4)\n",
            "Requirement already satisfied: idna<3,>=2.5 in /usr/local/lib/python3.6/dist-packages (from requests->stanza) (2.10)\n",
            "Requirement already satisfied: urllib3!=1.25.0,!=1.25.1,<1.26,>=1.21.1 in /usr/local/lib/python3.6/dist-packages (from requests->stanza) (1.24.3)\n",
            "Requirement already satisfied: setuptools in /usr/local/lib/python3.6/dist-packages (from protobuf->stanza) (50.3.2)\n",
            "Requirement already satisfied: six>=1.9 in /usr/local/lib/python3.6/dist-packages (from protobuf->stanza) (1.15.0)\n",
            "Installing collected packages: stanza\n",
            "Successfully installed stanza-1.1.1\n"
          ],
          "name": "stdout"
        }
      ]
    },
    {
      "cell_type": "code",
      "metadata": {
        "colab": {
          "base_uri": "https://localhost:8080/"
        },
        "id": "y6662-7AKDi5",
        "outputId": "f21a6f91-1350-400c-b7d6-0bec969e3a83"
      },
      "source": [
        "!pip install spacy-stanza\n"
      ],
      "execution_count": 7,
      "outputs": [
        {
          "output_type": "stream",
          "text": [
            "Collecting spacy-stanza\n",
            "  Downloading https://files.pythonhosted.org/packages/d4/8e/b35e8275ce2658a16484570c9a4acdcbd99de22a49adb3a9db3fa9844072/spacy_stanza-0.2.4-py3-none-any.whl\n",
            "Requirement already satisfied: spacy<3.0.0,>=2.1.0 in /usr/local/lib/python3.6/dist-packages (from spacy-stanza) (2.2.4)\n",
            "Requirement already satisfied: stanza<1.2.0,>=1.0.0 in /usr/local/lib/python3.6/dist-packages (from spacy-stanza) (1.1.1)\n",
            "Requirement already satisfied: wasabi<1.1.0,>=0.4.0 in /usr/local/lib/python3.6/dist-packages (from spacy<3.0.0,>=2.1.0->spacy-stanza) (0.8.0)\n",
            "Requirement already satisfied: thinc==7.4.0 in /usr/local/lib/python3.6/dist-packages (from spacy<3.0.0,>=2.1.0->spacy-stanza) (7.4.0)\n",
            "Requirement already satisfied: numpy>=1.15.0 in /usr/local/lib/python3.6/dist-packages (from spacy<3.0.0,>=2.1.0->spacy-stanza) (1.18.5)\n",
            "Requirement already satisfied: tqdm<5.0.0,>=4.38.0 in /usr/local/lib/python3.6/dist-packages (from spacy<3.0.0,>=2.1.0->spacy-stanza) (4.41.1)\n",
            "Requirement already satisfied: cymem<2.1.0,>=2.0.2 in /usr/local/lib/python3.6/dist-packages (from spacy<3.0.0,>=2.1.0->spacy-stanza) (2.0.4)\n",
            "Requirement already satisfied: plac<1.2.0,>=0.9.6 in /usr/local/lib/python3.6/dist-packages (from spacy<3.0.0,>=2.1.0->spacy-stanza) (1.1.3)\n",
            "Requirement already satisfied: requests<3.0.0,>=2.13.0 in /usr/local/lib/python3.6/dist-packages (from spacy<3.0.0,>=2.1.0->spacy-stanza) (2.23.0)\n",
            "Requirement already satisfied: srsly<1.1.0,>=1.0.2 in /usr/local/lib/python3.6/dist-packages (from spacy<3.0.0,>=2.1.0->spacy-stanza) (1.0.2)\n",
            "Requirement already satisfied: catalogue<1.1.0,>=0.0.7 in /usr/local/lib/python3.6/dist-packages (from spacy<3.0.0,>=2.1.0->spacy-stanza) (1.0.0)\n",
            "Requirement already satisfied: murmurhash<1.1.0,>=0.28.0 in /usr/local/lib/python3.6/dist-packages (from spacy<3.0.0,>=2.1.0->spacy-stanza) (1.0.3)\n",
            "Requirement already satisfied: preshed<3.1.0,>=3.0.2 in /usr/local/lib/python3.6/dist-packages (from spacy<3.0.0,>=2.1.0->spacy-stanza) (3.0.2)\n",
            "Requirement already satisfied: blis<0.5.0,>=0.4.0 in /usr/local/lib/python3.6/dist-packages (from spacy<3.0.0,>=2.1.0->spacy-stanza) (0.4.1)\n",
            "Requirement already satisfied: setuptools in /usr/local/lib/python3.6/dist-packages (from spacy<3.0.0,>=2.1.0->spacy-stanza) (50.3.2)\n",
            "Requirement already satisfied: torch>=1.3.0 in /usr/local/lib/python3.6/dist-packages (from stanza<1.2.0,>=1.0.0->spacy-stanza) (1.7.0+cu101)\n",
            "Requirement already satisfied: protobuf in /usr/local/lib/python3.6/dist-packages (from stanza<1.2.0,>=1.0.0->spacy-stanza) (3.12.4)\n",
            "Requirement already satisfied: urllib3!=1.25.0,!=1.25.1,<1.26,>=1.21.1 in /usr/local/lib/python3.6/dist-packages (from requests<3.0.0,>=2.13.0->spacy<3.0.0,>=2.1.0->spacy-stanza) (1.24.3)\n",
            "Requirement already satisfied: certifi>=2017.4.17 in /usr/local/lib/python3.6/dist-packages (from requests<3.0.0,>=2.13.0->spacy<3.0.0,>=2.1.0->spacy-stanza) (2020.6.20)\n",
            "Requirement already satisfied: chardet<4,>=3.0.2 in /usr/local/lib/python3.6/dist-packages (from requests<3.0.0,>=2.13.0->spacy<3.0.0,>=2.1.0->spacy-stanza) (3.0.4)\n",
            "Requirement already satisfied: idna<3,>=2.5 in /usr/local/lib/python3.6/dist-packages (from requests<3.0.0,>=2.13.0->spacy<3.0.0,>=2.1.0->spacy-stanza) (2.10)\n",
            "Requirement already satisfied: importlib-metadata>=0.20; python_version < \"3.8\" in /usr/local/lib/python3.6/dist-packages (from catalogue<1.1.0,>=0.0.7->spacy<3.0.0,>=2.1.0->spacy-stanza) (2.0.0)\n",
            "Requirement already satisfied: dataclasses in /usr/local/lib/python3.6/dist-packages (from torch>=1.3.0->stanza<1.2.0,>=1.0.0->spacy-stanza) (0.7)\n",
            "Requirement already satisfied: future in /usr/local/lib/python3.6/dist-packages (from torch>=1.3.0->stanza<1.2.0,>=1.0.0->spacy-stanza) (0.16.0)\n",
            "Requirement already satisfied: typing-extensions in /usr/local/lib/python3.6/dist-packages (from torch>=1.3.0->stanza<1.2.0,>=1.0.0->spacy-stanza) (3.7.4.3)\n",
            "Requirement already satisfied: six>=1.9 in /usr/local/lib/python3.6/dist-packages (from protobuf->stanza<1.2.0,>=1.0.0->spacy-stanza) (1.15.0)\n",
            "Requirement already satisfied: zipp>=0.5 in /usr/local/lib/python3.6/dist-packages (from importlib-metadata>=0.20; python_version < \"3.8\"->catalogue<1.1.0,>=0.0.7->spacy<3.0.0,>=2.1.0->spacy-stanza) (3.4.0)\n",
            "Installing collected packages: spacy-stanza\n",
            "Successfully installed spacy-stanza-0.2.4\n"
          ],
          "name": "stdout"
        }
      ]
    },
    {
      "cell_type": "code",
      "metadata": {
        "colab": {
          "base_uri": "https://localhost:8080/"
        },
        "id": "RF7GQt6XKSdW",
        "outputId": "d740b545-b41d-4bb6-9722-3f674f436f11"
      },
      "source": [
        "!pip install pymorphy2==0.8"
      ],
      "execution_count": 8,
      "outputs": [
        {
          "output_type": "stream",
          "text": [
            "Collecting pymorphy2==0.8\n",
            "\u001b[?25l  Downloading https://files.pythonhosted.org/packages/a3/33/fff9675c68b5f6c63ec8c6e6ff57827dda28a1fa5b2c2d727dffff92dd47/pymorphy2-0.8-py2.py3-none-any.whl (46kB)\n",
            "\r\u001b[K     |███████                         | 10kB 17.5MB/s eta 0:00:01\r\u001b[K     |██████████████▏                 | 20kB 21.6MB/s eta 0:00:01\r\u001b[K     |█████████████████████▎          | 30kB 17.9MB/s eta 0:00:01\r\u001b[K     |████████████████████████████▍   | 40kB 12.0MB/s eta 0:00:01\r\u001b[K     |████████████████████████████████| 51kB 3.2MB/s \n",
            "\u001b[?25hCollecting dawg-python>=0.7\n",
            "  Downloading https://files.pythonhosted.org/packages/6a/84/ff1ce2071d4c650ec85745766c0047ccc3b5036f1d03559fd46bb38b5eeb/DAWG_Python-0.7.2-py2.py3-none-any.whl\n",
            "Collecting pymorphy2-dicts<3.0,>=2.4\n",
            "\u001b[?25l  Downloading https://files.pythonhosted.org/packages/02/51/2465fd4f72328ab50877b54777764d928da8cb15b74e2680fc1bd8cb3173/pymorphy2_dicts-2.4.393442.3710985-py2.py3-none-any.whl (7.1MB)\n",
            "\u001b[K     |████████████████████████████████| 7.1MB 8.1MB/s \n",
            "\u001b[?25hRequirement already satisfied: docopt>=0.6 in /usr/local/lib/python3.6/dist-packages (from pymorphy2==0.8) (0.6.2)\n",
            "Installing collected packages: dawg-python, pymorphy2-dicts, pymorphy2\n",
            "Successfully installed dawg-python-0.7.2 pymorphy2-0.8 pymorphy2-dicts-2.4.393442.3710985\n"
          ],
          "name": "stdout"
        }
      ]
    },
    {
      "cell_type": "code",
      "metadata": {
        "colab": {
          "base_uri": "https://localhost:8080/",
          "height": 346
        },
        "id": "1YEnJkLfLOYK",
        "outputId": "f75a7d04-58c6-4b37-945a-aab91267bed2"
      },
      "source": [
        "import stanza\n",
        "from spacy_stanza import StanzaLanguage\n",
        "from spacy import displacy\n",
        "#stanza.download('ru')"
      ],
      "execution_count": 4,
      "outputs": [
        {
          "output_type": "error",
          "ename": "ModuleNotFoundError",
          "evalue": "ignored",
          "traceback": [
            "\u001b[0;31m---------------------------------------------------------------------------\u001b[0m",
            "\u001b[0;31mModuleNotFoundError\u001b[0m                       Traceback (most recent call last)",
            "\u001b[0;32m<ipython-input-4-a915917874c8>\u001b[0m in \u001b[0;36m<module>\u001b[0;34m()\u001b[0m\n\u001b[0;32m----> 1\u001b[0;31m \u001b[0;32mimport\u001b[0m \u001b[0mstanza\u001b[0m\u001b[0;34m\u001b[0m\u001b[0;34m\u001b[0m\u001b[0m\n\u001b[0m\u001b[1;32m      2\u001b[0m \u001b[0;32mfrom\u001b[0m \u001b[0mspacy_stanza\u001b[0m \u001b[0;32mimport\u001b[0m \u001b[0mStanzaLanguage\u001b[0m\u001b[0;34m\u001b[0m\u001b[0;34m\u001b[0m\u001b[0m\n\u001b[1;32m      3\u001b[0m \u001b[0;32mfrom\u001b[0m \u001b[0mspacy\u001b[0m \u001b[0;32mimport\u001b[0m \u001b[0mdisplacy\u001b[0m\u001b[0;34m\u001b[0m\u001b[0;34m\u001b[0m\u001b[0m\n\u001b[1;32m      4\u001b[0m \u001b[0;31m#stanza.download('ru')\u001b[0m\u001b[0;34m\u001b[0m\u001b[0;34m\u001b[0m\u001b[0;34m\u001b[0m\u001b[0m\n",
            "\u001b[0;31mModuleNotFoundError\u001b[0m: No module named 'stanza'",
            "",
            "\u001b[0;31m---------------------------------------------------------------------------\u001b[0;32m\nNOTE: If your import is failing due to a missing package, you can\nmanually install dependencies using either !pip or !apt.\n\nTo view examples of installing some common dependencies, click the\n\"Open Examples\" button below.\n\u001b[0;31m---------------------------------------------------------------------------\u001b[0m\n"
          ]
        }
      ]
    },
    {
      "cell_type": "code",
      "metadata": {
        "colab": {
          "base_uri": "https://localhost:8080/",
          "height": 195
        },
        "id": "FsJNayf9LiJ3",
        "outputId": "2879d144-70ef-42f3-db22-713489b8d22f"
      },
      "source": [
        "# https://stanfordnlp.github.io/stanza/tokenize.html\n",
        "snlp = stanza.Pipeline(lang=\"ru\", processors='tokenize,ner', tokenize_pretokenized=True))\n",
        "#nlp = StanzaLanguage(snlp)\n",
        "#nlp = "
      ],
      "execution_count": 3,
      "outputs": [
        {
          "output_type": "error",
          "ename": "NameError",
          "evalue": "ignored",
          "traceback": [
            "\u001b[0;31m---------------------------------------------------------------------------\u001b[0m",
            "\u001b[0;31mNameError\u001b[0m                                 Traceback (most recent call last)",
            "\u001b[0;32m<ipython-input-3-a970097e335d>\u001b[0m in \u001b[0;36m<module>\u001b[0;34m()\u001b[0m\n\u001b[0;32m----> 1\u001b[0;31m \u001b[0msnlp\u001b[0m \u001b[0;34m=\u001b[0m \u001b[0mstanza\u001b[0m\u001b[0;34m.\u001b[0m\u001b[0mPipeline\u001b[0m\u001b[0;34m(\u001b[0m\u001b[0mlang\u001b[0m\u001b[0;34m=\u001b[0m\u001b[0;34m\"ru\"\u001b[0m\u001b[0;34m,\u001b[0m \u001b[0mprocessors\u001b[0m\u001b[0;34m=\u001b[0m\u001b[0;34m'tokenize,ner'\u001b[0m\u001b[0;34m)\u001b[0m\u001b[0;34m\u001b[0m\u001b[0;34m\u001b[0m\u001b[0m\n\u001b[0m\u001b[1;32m      2\u001b[0m \u001b[0;31m#nlp = StanzaLanguage(snlp)\u001b[0m\u001b[0;34m\u001b[0m\u001b[0;34m\u001b[0m\u001b[0;34m\u001b[0m\u001b[0m\n\u001b[1;32m      3\u001b[0m \u001b[0;31m#nlp =\u001b[0m\u001b[0;34m\u001b[0m\u001b[0;34m\u001b[0m\u001b[0;34m\u001b[0m\u001b[0m\n",
            "\u001b[0;31mNameError\u001b[0m: name 'stanza' is not defined"
          ]
        }
      ]
    },
    {
      "cell_type": "code",
      "metadata": {
        "colab": {
          "base_uri": "https://localhost:8080/",
          "height": 490
        },
        "id": "C5zfxrnTLmFT",
        "outputId": "8f618a82-89c1-46cf-bcee-e72e035b8ab3"
      },
      "source": [
        "text = \"\"\"Андре́й Серге́евич Арша́вин (род. 29 мая 1981[4], Ленинград) — российский футболист, бывший капитан сборной России, заслуженный мастер спорта России (2008). Выступал на позициях атакующего полузащитника, второго нападающего, плеймейкера. При тренере Гусе Хиддинке был одним из основных игроков сборной России. В 2008 году после чемпионата Европы 2008 года попал в символическую сборную Европы по версии УЕФА, а 2 декабря, в результате голосования на определение лучшего игрока 2008 года и вручение награды «Золотой мяч» по версии журнала «France Football», занял 6-е место, что является лучшим результатом для российского футболиста после распада СССР. Неоднократно признавался лучшим футболистом России в различных опросах. С 5 декабря 2009 года входит в «Клуб 100 российских бомбардиров».\"\"\"\n",
        "doc = nlp(text)\n"
      ],
      "execution_count": 11,
      "outputs": [
        {
          "output_type": "execute_result",
          "data": {
            "application/vnd.google.colaboratory.intrinsic+json": {
              "type": "string"
            },
            "text/plain": [
              "'<div class=\"entities\" style=\"line-height: 2.5; direction: ltr\">\\n<mark class=\"entity\" style=\"background: #ddd; padding: 0.45em 0.6em; margin: 0 0.25em; line-height: 1; border-radius: 0.35em;\">\\n    Андре́й Серге́евич Арша́вин\\n    <span style=\"font-size: 0.8em; font-weight: bold; line-height: 1; border-radius: 0.35em; text-transform: uppercase; vertical-align: middle; margin-left: 0.5rem\">PER</span>\\n</mark>\\n (род. 29 мая 1981[4], \\n<mark class=\"entity\" style=\"background: #ff9561; padding: 0.45em 0.6em; margin: 0 0.25em; line-height: 1; border-radius: 0.35em;\">\\n    Ленинград\\n    <span style=\"font-size: 0.8em; font-weight: bold; line-height: 1; border-radius: 0.35em; text-transform: uppercase; vertical-align: middle; margin-left: 0.5rem\">LOC</span>\\n</mark>\\n) — российский футболист, бывший капитан \\n<mark class=\"entity\" style=\"background: #7aecec; padding: 0.45em 0.6em; margin: 0 0.25em; line-height: 1; border-radius: 0.35em;\">\\n    сборной России\\n    <span style=\"font-size: 0.8em; font-weight: bold; line-height: 1; border-radius: 0.35em; text-transform: uppercase; vertical-align: middle; margin-left: 0.5rem\">ORG</span>\\n</mark>\\n, заслуженный мастер спорта \\n<mark class=\"entity\" style=\"background: #ff9561; padding: 0.45em 0.6em; margin: 0 0.25em; line-height: 1; border-radius: 0.35em;\">\\n    России\\n    <span style=\"font-size: 0.8em; font-weight: bold; line-height: 1; border-radius: 0.35em; text-transform: uppercase; vertical-align: middle; margin-left: 0.5rem\">LOC</span>\\n</mark>\\n (2008). Выступал на позициях атакующего полузащитника, второго нападающего, плеймейкера. При тренере \\n<mark class=\"entity\" style=\"background: #ddd; padding: 0.45em 0.6em; margin: 0 0.25em; line-height: 1; border-radius: 0.35em;\">\\n    Гусе Хиддинке\\n    <span style=\"font-size: 0.8em; font-weight: bold; line-height: 1; border-radius: 0.35em; text-transform: uppercase; vertical-align: middle; margin-left: 0.5rem\">PER</span>\\n</mark>\\n был одним из основных игроков \\n<mark class=\"entity\" style=\"background: #7aecec; padding: 0.45em 0.6em; margin: 0 0.25em; line-height: 1; border-radius: 0.35em;\">\\n    сборной России\\n    <span style=\"font-size: 0.8em; font-weight: bold; line-height: 1; border-radius: 0.35em; text-transform: uppercase; vertical-align: middle; margin-left: 0.5rem\">ORG</span>\\n</mark>\\n. В 2008 году после \\n<mark class=\"entity\" style=\"background: #ddd; padding: 0.45em 0.6em; margin: 0 0.25em; line-height: 1; border-radius: 0.35em;\">\\n    чемпионата Европы 2008 года\\n    <span style=\"font-size: 0.8em; font-weight: bold; line-height: 1; border-radius: 0.35em; text-transform: uppercase; vertical-align: middle; margin-left: 0.5rem\">MISC</span>\\n</mark>\\n попал в символическую \\n<mark class=\"entity\" style=\"background: #7aecec; padding: 0.45em 0.6em; margin: 0 0.25em; line-height: 1; border-radius: 0.35em;\">\\n    сборную Европы\\n    <span style=\"font-size: 0.8em; font-weight: bold; line-height: 1; border-radius: 0.35em; text-transform: uppercase; vertical-align: middle; margin-left: 0.5rem\">ORG</span>\\n</mark>\\n по версии \\n<mark class=\"entity\" style=\"background: #7aecec; padding: 0.45em 0.6em; margin: 0 0.25em; line-height: 1; border-radius: 0.35em;\">\\n    УЕФА\\n    <span style=\"font-size: 0.8em; font-weight: bold; line-height: 1; border-radius: 0.35em; text-transform: uppercase; vertical-align: middle; margin-left: 0.5rem\">ORG</span>\\n</mark>\\n, а 2 декабря, в результате голосования на определение лучшего игрока 2008 года и вручение награды «Золотой мяч» по версии журнала «\\n<mark class=\"entity\" style=\"background: #7aecec; padding: 0.45em 0.6em; margin: 0 0.25em; line-height: 1; border-radius: 0.35em;\">\\n    France Football\\n    <span style=\"font-size: 0.8em; font-weight: bold; line-height: 1; border-radius: 0.35em; text-transform: uppercase; vertical-align: middle; margin-left: 0.5rem\">ORG</span>\\n</mark>\\n», занял 6-е место, что является лучшим результатом для российского футболиста после \\n<mark class=\"entity\" style=\"background: #ddd; padding: 0.45em 0.6em; margin: 0 0.25em; line-height: 1; border-radius: 0.35em;\">\\n    распада СССР\\n    <span style=\"font-size: 0.8em; font-weight: bold; line-height: 1; border-radius: 0.35em; text-transform: uppercase; vertical-align: middle; margin-left: 0.5rem\">MISC</span>\\n</mark>\\n. Неоднократно признавался лучшим футболистом \\n<mark class=\"entity\" style=\"background: #ff9561; padding: 0.45em 0.6em; margin: 0 0.25em; line-height: 1; border-radius: 0.35em;\">\\n    России\\n    <span style=\"font-size: 0.8em; font-weight: bold; line-height: 1; border-radius: 0.35em; text-transform: uppercase; vertical-align: middle; margin-left: 0.5rem\">LOC</span>\\n</mark>\\n в различных опросах. С 5 декабря 2009 года входит в \\n<mark class=\"entity\" style=\"background: #ddd; padding: 0.45em 0.6em; margin: 0 0.25em; line-height: 1; border-radius: 0.35em;\">\\n    «Клуб 100 российских бомбардиров\\n    <span style=\"font-size: 0.8em; font-weight: bold; line-height: 1; border-radius: 0.35em; text-transform: uppercase; vertical-align: middle; margin-left: 0.5rem\">MISC</span>\\n</mark>\\n».</div>'"
            ]
          },
          "metadata": {
            "tags": []
          },
          "execution_count": 11
        }
      ]
    },
    {
      "cell_type": "code",
      "metadata": {
        "id": "yIw658YcM2FP"
      },
      "source": [
        "stanza_docs_list = [snlp(text) for text in arbitrage_rulings_df[\"proc_text\"]]\n",
        "\n",
        "#text = arbitrage_rulings_df[\"proc_text\"][2]\n",
        "#doc = snlp(text)"
      ],
      "execution_count": null,
      "outputs": []
    },
    {
      "cell_type": "code",
      "metadata": {
        "colab": {
          "base_uri": "https://localhost:8080/",
          "height": 162
        },
        "id": "y0LORNckw7s1",
        "outputId": "65f93816-68aa-4d35-ea23-911e94e7cfdd"
      },
      "source": [
        "stanza_docs_list"
      ],
      "execution_count": 2,
      "outputs": [
        {
          "output_type": "error",
          "ename": "NameError",
          "evalue": "ignored",
          "traceback": [
            "\u001b[0;31m---------------------------------------------------------------------------\u001b[0m",
            "\u001b[0;31mNameError\u001b[0m                                 Traceback (most recent call last)",
            "\u001b[0;32m<ipython-input-2-ca10356e1a74>\u001b[0m in \u001b[0;36m<module>\u001b[0;34m()\u001b[0m\n\u001b[0;32m----> 1\u001b[0;31m \u001b[0mstanza_docs_list\u001b[0m\u001b[0;34m\u001b[0m\u001b[0;34m\u001b[0m\u001b[0m\n\u001b[0m",
            "\u001b[0;31mNameError\u001b[0m: name 'stanza_docs_list' is not defined"
          ]
        }
      ]
    },
    {
      "cell_type": "code",
      "metadata": {
        "colab": {
          "base_uri": "https://localhost:8080/"
        },
        "id": "JEjAznm8VHNT",
        "outputId": "b7289ba5-2495-4b5d-9fad-bbaf8fe75173"
      },
      "source": [
        "import re\n",
        "captured_match = re.search('суд', list(doc.ents)[0].text, flags=re.IGNORECASE)\n",
        "\n",
        "courts = [entity.text for entity in list(doc.ents) if re.search('суд', entity.text, flags=re.IGNORECASE) is not None]\n",
        "print(captured_match.string)\n",
        "courts\n",
        "#list(doc.ents)"
      ],
      "execution_count": 52,
      "outputs": [
        {
          "output_type": "stream",
          "text": [
            "ТРИНАДЦАТЫЙ АРБИТРАЖНЫЙ АПЕЛЛЯЦИОННЫЙ СУД\n"
          ],
          "name": "stdout"
        },
        {
          "output_type": "execute_result",
          "data": {
            "text/plain": [
              "['ТРИНАДЦАТЫЙ АРБИТРАЖНЫЙ АПЕЛЛЯЦИОННЫЙ СУД',\n",
              " 'Тринадцатый арбитражный апелляционный суд',\n",
              " 'Арбитражного  суда  Санкт-Петербурга',\n",
              " 'Арбитражный  суд  Санкт-Петербурга']"
            ]
          },
          "metadata": {
            "tags": []
          },
          "execution_count": 52
        }
      ]
    },
    {
      "cell_type": "code",
      "metadata": {
        "colab": {
          "base_uri": "https://localhost:8080/"
        },
        "id": "cRbZ5AxuYI3o",
        "outputId": "5fc14334-d2a3-440e-e7ce-95c2a5550e9a"
      },
      "source": [
        "this =list(doc.ents)[12]\n",
        "this."
      ],
      "execution_count": 68,
      "outputs": [
        {
          "output_type": "execute_result",
          "data": {
            "text/plain": [
              "<generator at 0x7fa26a1c0828>"
            ]
          },
          "metadata": {
            "tags": []
          },
          "execution_count": 68
        }
      ]
    },
    {
      "cell_type": "code",
      "metadata": {
        "colab": {
          "base_uri": "https://localhost:8080/",
          "height": 35
        },
        "id": "Uhen_w5YYrlO",
        "outputId": "253c9118-155e-441c-940c-8c4518846226"
      },
      "source": [
        "list(doc.ents)[12].text"
      ],
      "execution_count": 82,
      "outputs": [
        {
          "output_type": "execute_result",
          "data": {
            "application/vnd.google.colaboratory.intrinsic+json": {
              "type": "string"
            },
            "text/plain": [
              "'Арбитражного  суда  Санкт-Петербурга'"
            ]
          },
          "metadata": {
            "tags": []
          },
          "execution_count": 82
        }
      ]
    },
    {
      "cell_type": "code",
      "metadata": {
        "colab": {
          "base_uri": "https://localhost:8080/"
        },
        "id": "K58kmUt8Wrnh",
        "outputId": "2b9d9aee-ab26-4bdd-e9a4-43d9ca6b26a9"
      },
      "source": [
        "ent_list = [ent.text for ent in doc.entities]\n",
        "courts = [entity for entity in ent_list if re.search('суд', entity, flags=re.IGNORECASE) is not None]\n",
        "courts = [court.replace('\\n','') for court in courts]\n",
        "courts"
      ],
      "execution_count": 89,
      "outputs": [
        {
          "output_type": "execute_result",
          "data": {
            "text/plain": [
              "['ТРИНАДЦАТЫЙ АРБИТРАЖНЫЙ АПЕЛЛЯЦИОННЫЙ СУД',\n",
              " 'Тринадцатый арбитражный апелляционный суд',\n",
              " 'Арбитражного  суда  Санкт-Петербурга',\n",
              " 'Арбитражный  суд  Санкт-Петербурга',\n",
              " 'Тринадцатый  арбитражный апелляционный суд',\n",
              " 'ПОСТАНОВИЛ: Решение  Арбитражного суда Санкт-Петербурга',\n",
              " 'Федеральный  арбитражный  суд Северо-Западного округа']"
            ]
          },
          "metadata": {
            "tags": []
          },
          "execution_count": 89
        }
      ]
    },
    {
      "cell_type": "code",
      "metadata": {
        "id": "1erD9XxbNhZt"
      },
      "source": [
        "russian_courts_df = pd.read_excel(\"drive/My Drive/data/russian_courts.xlsx\")\n",
        "russian_courts_df['russian_courts'] = russian_courts_df.russian_courts.str.replace('\\s\\(.+\\)', '')"
      ],
      "execution_count": 105,
      "outputs": []
    },
    {
      "cell_type": "code",
      "metadata": {
        "colab": {
          "base_uri": "https://localhost:8080/",
          "height": 254
        },
        "id": "j-L4iuYX9FtV",
        "outputId": "e121f064-a0cd-408c-d9ed-8d00d9a7e3b3"
      },
      "source": [
        "import fuzzymatcher\n",
        "fuzzymatcher.fuzzy_left_join(pd.DataFrame(courts, columns=['entity']), russian_courts_df, left_on = \"entity\", right_on = \"russian_courts\")"
      ],
      "execution_count": 106,
      "outputs": [
        {
          "output_type": "execute_result",
          "data": {
            "text/html": [
              "<div>\n",
              "<style scoped>\n",
              "    .dataframe tbody tr th:only-of-type {\n",
              "        vertical-align: middle;\n",
              "    }\n",
              "\n",
              "    .dataframe tbody tr th {\n",
              "        vertical-align: top;\n",
              "    }\n",
              "\n",
              "    .dataframe thead th {\n",
              "        text-align: right;\n",
              "    }\n",
              "</style>\n",
              "<table border=\"1\" class=\"dataframe\">\n",
              "  <thead>\n",
              "    <tr style=\"text-align: right;\">\n",
              "      <th></th>\n",
              "      <th>best_match_score</th>\n",
              "      <th>__id_left</th>\n",
              "      <th>__id_right</th>\n",
              "      <th>entity</th>\n",
              "      <th>russian_courts</th>\n",
              "    </tr>\n",
              "  </thead>\n",
              "  <tbody>\n",
              "    <tr>\n",
              "      <th>0</th>\n",
              "      <td>0.177106</td>\n",
              "      <td>0_left</td>\n",
              "      <td>16_right</td>\n",
              "      <td>ТРИНАДЦАТЫЙ АРБИТРАЖНЫЙ АПЕЛЛЯЦИОННЫЙ СУД</td>\n",
              "      <td>Тринадцатый арбитражный апелляционный суд</td>\n",
              "    </tr>\n",
              "    <tr>\n",
              "      <th>1</th>\n",
              "      <td>0.177106</td>\n",
              "      <td>1_left</td>\n",
              "      <td>16_right</td>\n",
              "      <td>Тринадцатый арбитражный апелляционный суд</td>\n",
              "      <td>Тринадцатый арбитражный апелляционный суд</td>\n",
              "    </tr>\n",
              "    <tr>\n",
              "      <th>2</th>\n",
              "      <td>-0.144556</td>\n",
              "      <td>2_left</td>\n",
              "      <td>96_right</td>\n",
              "      <td>Арбитражного  суда  Санкт-Петербурга</td>\n",
              "      <td>Арбитражный суд Санкт-Петербурга и Ленинградск...</td>\n",
              "    </tr>\n",
              "    <tr>\n",
              "      <th>5</th>\n",
              "      <td>0.007809</td>\n",
              "      <td>3_left</td>\n",
              "      <td>96_right</td>\n",
              "      <td>Арбитражный  суд  Санкт-Петербурга</td>\n",
              "      <td>Арбитражный суд Санкт-Петербурга и Ленинградск...</td>\n",
              "    </tr>\n",
              "    <tr>\n",
              "      <th>6</th>\n",
              "      <td>0.177106</td>\n",
              "      <td>4_left</td>\n",
              "      <td>16_right</td>\n",
              "      <td>Тринадцатый  арбитражный апелляционный суд</td>\n",
              "      <td>Тринадцатый арбитражный апелляционный суд</td>\n",
              "    </tr>\n",
              "    <tr>\n",
              "      <th>7</th>\n",
              "      <td>-0.244900</td>\n",
              "      <td>5_left</td>\n",
              "      <td>96_right</td>\n",
              "      <td>ПОСТАНОВИЛ: Решение  Арбитражного суда Санкт-П...</td>\n",
              "      <td>Арбитражный суд Санкт-Петербурга и Ленинградск...</td>\n",
              "    </tr>\n",
              "    <tr>\n",
              "      <th>10</th>\n",
              "      <td>0.217344</td>\n",
              "      <td>6_left</td>\n",
              "      <td>8_right</td>\n",
              "      <td>Федеральный  арбитражный  суд Северо-Западного...</td>\n",
              "      <td>Арбитражный суд Северо-Западного округа</td>\n",
              "    </tr>\n",
              "  </tbody>\n",
              "</table>\n",
              "</div>"
            ],
            "text/plain": [
              "    best_match_score  ...                                     russian_courts\n",
              "0           0.177106  ...          Тринадцатый арбитражный апелляционный суд\n",
              "1           0.177106  ...          Тринадцатый арбитражный апелляционный суд\n",
              "2          -0.144556  ...  Арбитражный суд Санкт-Петербурга и Ленинградск...\n",
              "5           0.007809  ...  Арбитражный суд Санкт-Петербурга и Ленинградск...\n",
              "6           0.177106  ...          Тринадцатый арбитражный апелляционный суд\n",
              "7          -0.244900  ...  Арбитражный суд Санкт-Петербурга и Ленинградск...\n",
              "10          0.217344  ...            Арбитражный суд Северо-Западного округа\n",
              "\n",
              "[7 rows x 5 columns]"
            ]
          },
          "metadata": {
            "tags": []
          },
          "execution_count": 106
        }
      ]
    },
    {
      "cell_type": "code",
      "metadata": {
        "id": "eyVl9iVq_DMl"
      },
      "source": [
        ""
      ],
      "execution_count": null,
      "outputs": []
    }
  ]
}