{
  "nbformat": 4,
  "nbformat_minor": 0,
  "metadata": {
    "colab": {
      "name": "extract_foreign_courts.ipynb",
      "provenance": [],
      "authorship_tag": "ABX9TyNttOSKMBMGfILWU36Y8rxL",
      "include_colab_link": true
    },
    "kernelspec": {
      "name": "python3",
      "display_name": "Python 3"
    }
  },
  "cells": [
    {
      "cell_type": "markdown",
      "metadata": {
        "id": "view-in-github",
        "colab_type": "text"
      },
      "source": [
        "<a href=\"https://colab.research.google.com/github/martin-kosiik/scraping-court-cases/blob/master/extract_foreign_courts.ipynb\" target=\"_parent\"><img src=\"https://colab.research.google.com/assets/colab-badge.svg\" alt=\"Open In Colab\"/></a>"
      ]
    },
    {
      "cell_type": "code",
      "metadata": {
        "id": "Tx6esyxLI0mJ"
      },
      "source": [
        "import pandas as pd \n",
        "import numpy as np"
      ],
      "execution_count": 1,
      "outputs": []
    },
    {
      "cell_type": "code",
      "metadata": {
        "colab": {
          "base_uri": "https://localhost:8080/"
        },
        "id": "lslAa1SV6YU1",
        "outputId": "688f6b13-7678-4f34-df11-87d75f8ed03c"
      },
      "source": [
        "!pip install razdel"
      ],
      "execution_count": null,
      "outputs": [
        {
          "output_type": "stream",
          "text": [
            "Collecting razdel\n",
            "  Downloading https://files.pythonhosted.org/packages/15/2c/664223a3924aa6e70479f7d37220b3a658765b9cfe760b4af7ffdc50d38f/razdel-0.5.0-py3-none-any.whl\n",
            "Installing collected packages: razdel\n",
            "Successfully installed razdel-0.5.0\n"
          ],
          "name": "stdout"
        }
      ]
    },
    {
      "cell_type": "code",
      "metadata": {
        "colab": {
          "base_uri": "https://localhost:8080/"
        },
        "id": "jKaAHFKzI6By",
        "outputId": "66c1951e-f71f-4c3f-fa56-06d4c9947f60"
      },
      "source": [
        "from google.colab import drive\n",
        "drive.mount('/content/drive', force_remount=True)"
      ],
      "execution_count": 2,
      "outputs": [
        {
          "output_type": "stream",
          "text": [
            "Mounted at /content/drive\n"
          ],
          "name": "stdout"
        }
      ]
    },
    {
      "cell_type": "code",
      "metadata": {
        "id": "Y0efa2yrJBfI"
      },
      "source": [
        "final_dataset = pd.read_csv('drive/My Drive/data/final_dataset_2.csv', encoding=\"UTF-8\")\n",
        "\n",
        "arbitrage_rulings_df = pd.read_csv(\"drive/My Drive/data/arbitrage_rulings.csv\", encoding=\"UTF-8\")\n",
        "arbitrage_rulings_df['ruling_date'] = arbitrage_rulings_df.case_id.str.extract('__(\\d{8})( *\\(\\d\\))*$')[0]\n",
        "arbitrage_rulings_df['ruling_date'] = pd.to_datetime(arbitrage_rulings_df['ruling_date'], format='%Y%m%d')\n",
        "arbitrage_rulings_df['starting_year'] = arbitrage_rulings_df.case_id.str.extract('(\\d{4})__\\d{8} *(\\(\\d\\))*$')[0]\n",
        "\n",
        "arbitrage_rulings_df['case_number'] = arbitrage_rulings_df['court_id'] + '-' + arbitrage_rulings_df['case_spec_digit'].astype(int).astype(str) + '/' + \\\n",
        "                                        arbitrage_rulings_df['starting_year'].astype(int).astype(str)\n",
        "\n",
        "\n",
        "key_diff = set(arbitrage_rulings_df['case_number']).intersection(final_dataset['Номер дела'])\n",
        "where_diff = arbitrage_rulings_df['case_number'].isin(key_diff)\n",
        "arbitrage_rulings_df = arbitrage_rulings_df[where_diff]\n",
        "\n",
        "\n",
        "# Remove the the NEWPAGE token and the page number\n",
        "arbitrage_rulings_df[\"proc_text\"] = arbitrage_rulings_df.text.str.replace(\"NEWPAGE \\n\\d\", \"\",\n",
        "                                                                       regex=True)\n",
        "\n",
        "arbitrage_rulings_df[\"proc_text\"] = arbitrage_rulings_df.proc_text.str.replace(\"NEWPAGE\", \"\")"
      ],
      "execution_count": 3,
      "outputs": []
    },
    {
      "cell_type": "code",
      "metadata": {
        "id": "I8zqCq326hAX"
      },
      "source": [
        "from  razdel  import sentenize , tokenize\n",
        "#from  navec  import   Navec \n",
        "def make_tokens(text):\n",
        "  all_tokens_in_text  = []\n",
        "  for sent in sentenize(text):\n",
        "      tokens = [_.text  for  _  in  tokenize(sent.text)]\n",
        "      all_tokens_in_text.append(tokens)\n",
        "  return all_tokens_in_text\n",
        "\n",
        "\n",
        "tokenized_rulings = [make_tokens(ruling) for ruling in arbitrage_rulings_df[\"proc_text\"]]"
      ],
      "execution_count": null,
      "outputs": []
    },
    {
      "cell_type": "code",
      "metadata": {
        "colab": {
          "base_uri": "https://localhost:8080/"
        },
        "id": "fbf0esA9Jz5m",
        "outputId": "b0e236f3-4a36-4c2c-e0a3-9c7020619d5b"
      },
      "source": [
        "!pip install stanza\n",
        "!pip install fuzzymatcher"
      ],
      "execution_count": 4,
      "outputs": [
        {
          "output_type": "stream",
          "text": [
            "Collecting stanza\n",
            "\u001b[?25l  Downloading https://files.pythonhosted.org/packages/e7/8b/3a9e7a8d8cb14ad6afffc3983b7a7322a3a24d94ebc978a70746fcffc085/stanza-1.1.1-py3-none-any.whl (227kB)\n",
            "\r\u001b[K     |█▍                              | 10kB 16.7MB/s eta 0:00:01\r\u001b[K     |██▉                             | 20kB 21.8MB/s eta 0:00:01\r\u001b[K     |████▎                           | 30kB 9.8MB/s eta 0:00:01\r\u001b[K     |█████▊                          | 40kB 8.7MB/s eta 0:00:01\r\u001b[K     |███████▏                        | 51kB 4.3MB/s eta 0:00:01\r\u001b[K     |████████▋                       | 61kB 4.7MB/s eta 0:00:01\r\u001b[K     |██████████                      | 71kB 4.8MB/s eta 0:00:01\r\u001b[K     |███████████▌                    | 81kB 5.3MB/s eta 0:00:01\r\u001b[K     |█████████████                   | 92kB 5.5MB/s eta 0:00:01\r\u001b[K     |██████████████▍                 | 102kB 4.1MB/s eta 0:00:01\r\u001b[K     |███████████████▉                | 112kB 4.1MB/s eta 0:00:01\r\u001b[K     |█████████████████▎              | 122kB 4.1MB/s eta 0:00:01\r\u001b[K     |██████████████████▊             | 133kB 4.1MB/s eta 0:00:01\r\u001b[K     |████████████████████▏           | 143kB 4.1MB/s eta 0:00:01\r\u001b[K     |█████████████████████▋          | 153kB 4.1MB/s eta 0:00:01\r\u001b[K     |███████████████████████         | 163kB 4.1MB/s eta 0:00:01\r\u001b[K     |████████████████████████▌       | 174kB 4.1MB/s eta 0:00:01\r\u001b[K     |██████████████████████████      | 184kB 4.1MB/s eta 0:00:01\r\u001b[K     |███████████████████████████▍    | 194kB 4.1MB/s eta 0:00:01\r\u001b[K     |████████████████████████████▉   | 204kB 4.1MB/s eta 0:00:01\r\u001b[K     |██████████████████████████████▎ | 215kB 4.1MB/s eta 0:00:01\r\u001b[K     |███████████████████████████████▊| 225kB 4.1MB/s eta 0:00:01\r\u001b[K     |████████████████████████████████| 235kB 4.1MB/s \n",
            "\u001b[?25hRequirement already satisfied: protobuf in /usr/local/lib/python3.6/dist-packages (from stanza) (3.12.4)\n",
            "Requirement already satisfied: requests in /usr/local/lib/python3.6/dist-packages (from stanza) (2.23.0)\n",
            "Requirement already satisfied: tqdm in /usr/local/lib/python3.6/dist-packages (from stanza) (4.41.1)\n",
            "Requirement already satisfied: numpy in /usr/local/lib/python3.6/dist-packages (from stanza) (1.18.5)\n",
            "Requirement already satisfied: torch>=1.3.0 in /usr/local/lib/python3.6/dist-packages (from stanza) (1.7.0+cu101)\n",
            "Requirement already satisfied: six>=1.9 in /usr/local/lib/python3.6/dist-packages (from protobuf->stanza) (1.15.0)\n",
            "Requirement already satisfied: setuptools in /usr/local/lib/python3.6/dist-packages (from protobuf->stanza) (50.3.2)\n",
            "Requirement already satisfied: urllib3!=1.25.0,!=1.25.1,<1.26,>=1.21.1 in /usr/local/lib/python3.6/dist-packages (from requests->stanza) (1.24.3)\n",
            "Requirement already satisfied: idna<3,>=2.5 in /usr/local/lib/python3.6/dist-packages (from requests->stanza) (2.10)\n",
            "Requirement already satisfied: chardet<4,>=3.0.2 in /usr/local/lib/python3.6/dist-packages (from requests->stanza) (3.0.4)\n",
            "Requirement already satisfied: certifi>=2017.4.17 in /usr/local/lib/python3.6/dist-packages (from requests->stanza) (2020.11.8)\n",
            "Requirement already satisfied: dataclasses in /usr/local/lib/python3.6/dist-packages (from torch>=1.3.0->stanza) (0.8)\n",
            "Requirement already satisfied: typing-extensions in /usr/local/lib/python3.6/dist-packages (from torch>=1.3.0->stanza) (3.7.4.3)\n",
            "Requirement already satisfied: future in /usr/local/lib/python3.6/dist-packages (from torch>=1.3.0->stanza) (0.16.0)\n",
            "Installing collected packages: stanza\n",
            "Successfully installed stanza-1.1.1\n",
            "Collecting fuzzymatcher\n",
            "  Downloading https://files.pythonhosted.org/packages/9c/36/5e8b8fff12357cb16e6e7e68910c620bdee225a6707c4e42d7f585276449/fuzzymatcher-0.0.5-py3-none-any.whl\n",
            "Collecting fuzzywuzzy\n",
            "  Downloading https://files.pythonhosted.org/packages/43/ff/74f23998ad2f93b945c0309f825be92e04e0348e062026998b5eefef4c33/fuzzywuzzy-0.18.0-py2.py3-none-any.whl\n",
            "Requirement already satisfied: python-dateutil in /usr/local/lib/python3.6/dist-packages (from fuzzymatcher) (2.8.1)\n",
            "Requirement already satisfied: pandas in /usr/local/lib/python3.6/dist-packages (from fuzzymatcher) (1.1.4)\n",
            "Collecting python-Levenshtein\n",
            "\u001b[?25l  Downloading https://files.pythonhosted.org/packages/42/a9/d1785c85ebf9b7dfacd08938dd028209c34a0ea3b1bcdb895208bd40a67d/python-Levenshtein-0.12.0.tar.gz (48kB)\n",
            "\u001b[K     |████████████████████████████████| 51kB 2.7MB/s \n",
            "\u001b[?25hCollecting metaphone\n",
            "  Downloading https://files.pythonhosted.org/packages/d4/ae/c9e4d007e32a6469be212da11d0b8e104d643f6f247d771742caf6ac6bb8/Metaphone-0.6.tar.gz\n",
            "Requirement already satisfied: six>=1.5 in /usr/local/lib/python3.6/dist-packages (from python-dateutil->fuzzymatcher) (1.15.0)\n",
            "Requirement already satisfied: numpy>=1.15.4 in /usr/local/lib/python3.6/dist-packages (from pandas->fuzzymatcher) (1.18.5)\n",
            "Requirement already satisfied: pytz>=2017.2 in /usr/local/lib/python3.6/dist-packages (from pandas->fuzzymatcher) (2018.9)\n",
            "Requirement already satisfied: setuptools in /usr/local/lib/python3.6/dist-packages (from python-Levenshtein->fuzzymatcher) (50.3.2)\n",
            "Building wheels for collected packages: python-Levenshtein, metaphone\n",
            "  Building wheel for python-Levenshtein (setup.py) ... \u001b[?25l\u001b[?25hdone\n",
            "  Created wheel for python-Levenshtein: filename=python_Levenshtein-0.12.0-cp36-cp36m-linux_x86_64.whl size=144792 sha256=0b045434d4d72d2a86a6fb4f74445c8bab1bd3ddc81f6f53ff02f102e141d878\n",
            "  Stored in directory: /root/.cache/pip/wheels/de/c2/93/660fd5f7559049268ad2dc6d81c4e39e9e36518766eaf7e342\n",
            "  Building wheel for metaphone (setup.py) ... \u001b[?25l\u001b[?25hdone\n",
            "  Created wheel for metaphone: filename=Metaphone-0.6-cp36-none-any.whl size=13907 sha256=f38f1a1cf40874af963be3d6dc6736a31668a196544838a2ccf5939d573397d5\n",
            "  Stored in directory: /root/.cache/pip/wheels/4e/7c/f7/162d726fc83491ef23c7a0b989005024eb83a1408c96f32eaf\n",
            "Successfully built python-Levenshtein metaphone\n",
            "Installing collected packages: fuzzywuzzy, python-Levenshtein, metaphone, fuzzymatcher\n",
            "Successfully installed fuzzymatcher-0.0.5 fuzzywuzzy-0.18.0 metaphone-0.6 python-Levenshtein-0.12.0\n"
          ],
          "name": "stdout"
        }
      ]
    },
    {
      "cell_type": "code",
      "metadata": {
        "colab": {
          "base_uri": "https://localhost:8080/"
        },
        "id": "y6662-7AKDi5",
        "outputId": "f21a6f91-1350-400c-b7d6-0bec969e3a83"
      },
      "source": [
        "!pip install spacy-stanza\n"
      ],
      "execution_count": null,
      "outputs": [
        {
          "output_type": "stream",
          "text": [
            "Collecting spacy-stanza\n",
            "  Downloading https://files.pythonhosted.org/packages/d4/8e/b35e8275ce2658a16484570c9a4acdcbd99de22a49adb3a9db3fa9844072/spacy_stanza-0.2.4-py3-none-any.whl\n",
            "Requirement already satisfied: spacy<3.0.0,>=2.1.0 in /usr/local/lib/python3.6/dist-packages (from spacy-stanza) (2.2.4)\n",
            "Requirement already satisfied: stanza<1.2.0,>=1.0.0 in /usr/local/lib/python3.6/dist-packages (from spacy-stanza) (1.1.1)\n",
            "Requirement already satisfied: wasabi<1.1.0,>=0.4.0 in /usr/local/lib/python3.6/dist-packages (from spacy<3.0.0,>=2.1.0->spacy-stanza) (0.8.0)\n",
            "Requirement already satisfied: thinc==7.4.0 in /usr/local/lib/python3.6/dist-packages (from spacy<3.0.0,>=2.1.0->spacy-stanza) (7.4.0)\n",
            "Requirement already satisfied: numpy>=1.15.0 in /usr/local/lib/python3.6/dist-packages (from spacy<3.0.0,>=2.1.0->spacy-stanza) (1.18.5)\n",
            "Requirement already satisfied: tqdm<5.0.0,>=4.38.0 in /usr/local/lib/python3.6/dist-packages (from spacy<3.0.0,>=2.1.0->spacy-stanza) (4.41.1)\n",
            "Requirement already satisfied: cymem<2.1.0,>=2.0.2 in /usr/local/lib/python3.6/dist-packages (from spacy<3.0.0,>=2.1.0->spacy-stanza) (2.0.4)\n",
            "Requirement already satisfied: plac<1.2.0,>=0.9.6 in /usr/local/lib/python3.6/dist-packages (from spacy<3.0.0,>=2.1.0->spacy-stanza) (1.1.3)\n",
            "Requirement already satisfied: requests<3.0.0,>=2.13.0 in /usr/local/lib/python3.6/dist-packages (from spacy<3.0.0,>=2.1.0->spacy-stanza) (2.23.0)\n",
            "Requirement already satisfied: srsly<1.1.0,>=1.0.2 in /usr/local/lib/python3.6/dist-packages (from spacy<3.0.0,>=2.1.0->spacy-stanza) (1.0.2)\n",
            "Requirement already satisfied: catalogue<1.1.0,>=0.0.7 in /usr/local/lib/python3.6/dist-packages (from spacy<3.0.0,>=2.1.0->spacy-stanza) (1.0.0)\n",
            "Requirement already satisfied: murmurhash<1.1.0,>=0.28.0 in /usr/local/lib/python3.6/dist-packages (from spacy<3.0.0,>=2.1.0->spacy-stanza) (1.0.3)\n",
            "Requirement already satisfied: preshed<3.1.0,>=3.0.2 in /usr/local/lib/python3.6/dist-packages (from spacy<3.0.0,>=2.1.0->spacy-stanza) (3.0.2)\n",
            "Requirement already satisfied: blis<0.5.0,>=0.4.0 in /usr/local/lib/python3.6/dist-packages (from spacy<3.0.0,>=2.1.0->spacy-stanza) (0.4.1)\n",
            "Requirement already satisfied: setuptools in /usr/local/lib/python3.6/dist-packages (from spacy<3.0.0,>=2.1.0->spacy-stanza) (50.3.2)\n",
            "Requirement already satisfied: torch>=1.3.0 in /usr/local/lib/python3.6/dist-packages (from stanza<1.2.0,>=1.0.0->spacy-stanza) (1.7.0+cu101)\n",
            "Requirement already satisfied: protobuf in /usr/local/lib/python3.6/dist-packages (from stanza<1.2.0,>=1.0.0->spacy-stanza) (3.12.4)\n",
            "Requirement already satisfied: urllib3!=1.25.0,!=1.25.1,<1.26,>=1.21.1 in /usr/local/lib/python3.6/dist-packages (from requests<3.0.0,>=2.13.0->spacy<3.0.0,>=2.1.0->spacy-stanza) (1.24.3)\n",
            "Requirement already satisfied: certifi>=2017.4.17 in /usr/local/lib/python3.6/dist-packages (from requests<3.0.0,>=2.13.0->spacy<3.0.0,>=2.1.0->spacy-stanza) (2020.6.20)\n",
            "Requirement already satisfied: chardet<4,>=3.0.2 in /usr/local/lib/python3.6/dist-packages (from requests<3.0.0,>=2.13.0->spacy<3.0.0,>=2.1.0->spacy-stanza) (3.0.4)\n",
            "Requirement already satisfied: idna<3,>=2.5 in /usr/local/lib/python3.6/dist-packages (from requests<3.0.0,>=2.13.0->spacy<3.0.0,>=2.1.0->spacy-stanza) (2.10)\n",
            "Requirement already satisfied: importlib-metadata>=0.20; python_version < \"3.8\" in /usr/local/lib/python3.6/dist-packages (from catalogue<1.1.0,>=0.0.7->spacy<3.0.0,>=2.1.0->spacy-stanza) (2.0.0)\n",
            "Requirement already satisfied: dataclasses in /usr/local/lib/python3.6/dist-packages (from torch>=1.3.0->stanza<1.2.0,>=1.0.0->spacy-stanza) (0.7)\n",
            "Requirement already satisfied: future in /usr/local/lib/python3.6/dist-packages (from torch>=1.3.0->stanza<1.2.0,>=1.0.0->spacy-stanza) (0.16.0)\n",
            "Requirement already satisfied: typing-extensions in /usr/local/lib/python3.6/dist-packages (from torch>=1.3.0->stanza<1.2.0,>=1.0.0->spacy-stanza) (3.7.4.3)\n",
            "Requirement already satisfied: six>=1.9 in /usr/local/lib/python3.6/dist-packages (from protobuf->stanza<1.2.0,>=1.0.0->spacy-stanza) (1.15.0)\n",
            "Requirement already satisfied: zipp>=0.5 in /usr/local/lib/python3.6/dist-packages (from importlib-metadata>=0.20; python_version < \"3.8\"->catalogue<1.1.0,>=0.0.7->spacy<3.0.0,>=2.1.0->spacy-stanza) (3.4.0)\n",
            "Installing collected packages: spacy-stanza\n",
            "Successfully installed spacy-stanza-0.2.4\n"
          ],
          "name": "stdout"
        }
      ]
    },
    {
      "cell_type": "code",
      "metadata": {
        "colab": {
          "base_uri": "https://localhost:8080/"
        },
        "id": "RF7GQt6XKSdW",
        "outputId": "ca5ab12e-6297-4e96-bf00-a33a80178136"
      },
      "source": [
        "!pip install pymorphy2==0.8"
      ],
      "execution_count": 5,
      "outputs": [
        {
          "output_type": "stream",
          "text": [
            "Collecting pymorphy2==0.8\n",
            "\u001b[?25l  Downloading https://files.pythonhosted.org/packages/a3/33/fff9675c68b5f6c63ec8c6e6ff57827dda28a1fa5b2c2d727dffff92dd47/pymorphy2-0.8-py2.py3-none-any.whl (46kB)\n",
            "\u001b[K     |████████████████████████████████| 51kB 2.9MB/s \n",
            "\u001b[?25hCollecting pymorphy2-dicts<3.0,>=2.4\n",
            "\u001b[?25l  Downloading https://files.pythonhosted.org/packages/02/51/2465fd4f72328ab50877b54777764d928da8cb15b74e2680fc1bd8cb3173/pymorphy2_dicts-2.4.393442.3710985-py2.py3-none-any.whl (7.1MB)\n",
            "\u001b[K     |████████████████████████████████| 7.1MB 7.2MB/s \n",
            "\u001b[?25hCollecting dawg-python>=0.7\n",
            "  Downloading https://files.pythonhosted.org/packages/6a/84/ff1ce2071d4c650ec85745766c0047ccc3b5036f1d03559fd46bb38b5eeb/DAWG_Python-0.7.2-py2.py3-none-any.whl\n",
            "Requirement already satisfied: docopt>=0.6 in /usr/local/lib/python3.6/dist-packages (from pymorphy2==0.8) (0.6.2)\n",
            "Installing collected packages: pymorphy2-dicts, dawg-python, pymorphy2\n",
            "Successfully installed dawg-python-0.7.2 pymorphy2-0.8 pymorphy2-dicts-2.4.393442.3710985\n"
          ],
          "name": "stdout"
        }
      ]
    },
    {
      "cell_type": "code",
      "metadata": {
        "id": "tbZdlMF0rhLf",
        "outputId": "5aa94e34-5883-4a7f-9360-3d35671fa7aa",
        "colab": {
          "base_uri": "https://localhost:8080/"
        }
      },
      "source": [
        "!pip install pymystem==0.1.10"
      ],
      "execution_count": 5,
      "outputs": [
        {
          "output_type": "stream",
          "text": [
            "\u001b[31mERROR: Could not find a version that satisfies the requirement pymystem==0.1.10 (from versions: none)\u001b[0m\n",
            "\u001b[31mERROR: No matching distribution found for pymystem==0.1.10\u001b[0m\n"
          ],
          "name": "stdout"
        }
      ]
    },
    {
      "cell_type": "code",
      "metadata": {
        "id": "jc4KugoPgy8n",
        "outputId": "82b707d9-31a6-4af3-b7ac-38c51fa1e9f8",
        "colab": {
          "base_uri": "https://localhost:8080/"
        }
      },
      "source": [
        "!wget http://download.cdn.yandex.net/mystem/mystem-3.0-linux3.1-64bit.tar.gz\n",
        "!tar -xvf mystem-3.0-linux3.1-64bit.tar.gz\n",
        "!cp mystem /bin"
      ],
      "execution_count": 6,
      "outputs": [
        {
          "output_type": "stream",
          "text": [
            "--2020-11-25 17:46:09--  http://download.cdn.yandex.net/mystem/mystem-3.0-linux3.1-64bit.tar.gz\n",
            "Resolving download.cdn.yandex.net (download.cdn.yandex.net)... 5.45.205.245, 5.45.205.243, 5.45.205.242, ...\n",
            "Connecting to download.cdn.yandex.net (download.cdn.yandex.net)|5.45.205.245|:80... connected.\n",
            "HTTP request sent, awaiting response... 302 Found\n",
            "Location: http://cache-mskm905.cdn.yandex.net/download.cdn.yandex.net/mystem/mystem-3.0-linux3.1-64bit.tar.gz [following]\n",
            "--2020-11-25 17:46:11--  http://cache-mskm905.cdn.yandex.net/download.cdn.yandex.net/mystem/mystem-3.0-linux3.1-64bit.tar.gz\n",
            "Resolving cache-mskm905.cdn.yandex.net (cache-mskm905.cdn.yandex.net)... 5.45.220.15, 2a02:6b8:0:2002::16\n",
            "Connecting to cache-mskm905.cdn.yandex.net (cache-mskm905.cdn.yandex.net)|5.45.220.15|:80... connected.\n",
            "HTTP request sent, awaiting response... 200 OK\n",
            "Length: 16457938 (16M) [application/octet-stream]\n",
            "Saving to: ‘mystem-3.0-linux3.1-64bit.tar.gz’\n",
            "\n",
            "mystem-3.0-linux3.1 100%[===================>]  15.70M  4.99MB/s    in 3.9s    \n",
            "\n",
            "2020-11-25 17:46:16 (4.05 MB/s) - ‘mystem-3.0-linux3.1-64bit.tar.gz’ saved [16457938/16457938]\n",
            "\n",
            "mystem\n"
          ],
          "name": "stdout"
        }
      ]
    },
    {
      "cell_type": "code",
      "metadata": {
        "colab": {
          "base_uri": "https://localhost:8080/"
        },
        "id": "1YEnJkLfLOYK",
        "outputId": "d1621e91-11f4-431d-8871-1a08a163c7e5"
      },
      "source": [
        "import stanza\n",
        "#from spacy_stanza import StanzaLanguage\n",
        "#from spacy import displacy\n",
        "stanza.download('ru')"
      ],
      "execution_count": null,
      "outputs": [
        {
          "output_type": "stream",
          "text": [
            "Downloading https://raw.githubusercontent.com/stanfordnlp/stanza-resources/master/resources_1.1.0.json: 122kB [00:00, 20.5MB/s]                    \n",
            "2020-11-24 08:00:21 INFO: Downloading default packages for language: ru (Russian)...\n",
            "Downloading http://nlp.stanford.edu/software/stanza/1.1.0/ru/default.zip: 100%|██████████| 591M/591M [00:50<00:00, 11.7MB/s]\n",
            "2020-11-24 08:01:20 INFO: Finished downloading models and saved to /root/stanza_resources.\n"
          ],
          "name": "stderr"
        }
      ]
    },
    {
      "cell_type": "code",
      "metadata": {
        "colab": {
          "base_uri": "https://localhost:8080/"
        },
        "id": "FsJNayf9LiJ3",
        "outputId": "e1b827e4-4473-4694-f8be-5564dcc314a7"
      },
      "source": [
        "# https://stanfordnlp.github.io/stanza/tokenize.html\n",
        "snlp = stanza.Pipeline(lang=\"ru\", processors='tokenize,lemma,ner', tokenize_pretokenized=True)\n",
        "#nlp = StanzaLanguage(snlp)\n",
        "#nlp = "
      ],
      "execution_count": null,
      "outputs": [
        {
          "output_type": "stream",
          "text": [
            "2020-11-24 10:06:41 INFO: Loading these models for language: ru (Russian):\n",
            "=========================\n",
            "| Processor | Package   |\n",
            "-------------------------\n",
            "| tokenize  | syntagrus |\n",
            "| lemma     | syntagrus |\n",
            "| ner       | wikiner   |\n",
            "=========================\n",
            "\n",
            "2020-11-24 10:06:41 INFO: Use device: gpu\n",
            "2020-11-24 10:06:41 INFO: Loading: tokenize\n",
            "2020-11-24 10:06:41 INFO: Loading: lemma\n",
            "2020-11-24 10:06:41 INFO: Loading: ner\n",
            "2020-11-24 10:06:53 INFO: Done loading processors!\n"
          ],
          "name": "stderr"
        }
      ]
    },
    {
      "cell_type": "code",
      "metadata": {
        "colab": {
          "base_uri": "https://localhost:8080/"
        },
        "id": "C5zfxrnTLmFT",
        "outputId": "f8f8ca61-7019-4ff1-fe96-1b9ea9a6b5d0"
      },
      "source": [
        "%%timeit\n",
        "stanza_docs_list = [snlp(text) for text in arbitrage_rulings_df[\"proc_text\"][:2]]\n",
        "\n"
      ],
      "execution_count": null,
      "outputs": [
        {
          "output_type": "stream",
          "text": [
            "1 loop, best of 3: 501 ms per loop\n"
          ],
          "name": "stdout"
        }
      ]
    },
    {
      "cell_type": "code",
      "metadata": {
        "id": "MSGGd9mXPIKR",
        "colab": {
          "base_uri": "https://localhost:8080/"
        },
        "outputId": "58bcc13c-2017-4341-d2ea-7be5b3cd451f"
      },
      "source": [
        "arbitrage_rulings_df[\"proc_text\"]"
      ],
      "execution_count": null,
      "outputs": [
        {
          "output_type": "execute_result",
          "data": {
            "text/plain": [
              "3        \\n    \\n \\nАРБИТРАЖНЫЙ СУД ИРКУТСКОЙ ОБЛАСТИ ...\n",
              "4        \\n \\n \\nАрбитражный суд Липецкой области \\n39...\n",
              "5        \\n \\n \\n \\nАрбитражный суд Мурманской области...\n",
              "6                                                     ...\n",
              "7        \\n \\n                      \\n                ...\n",
              "                              ...                        \n",
              "3364    1/2019-151565(1) \\n \\n \\nАрбитражный суд Яросл...\n",
              "3370    59/2019-46141(2) \\n \\nАРБИТРАЖНЫЙ СУД ЯРОСЛАВС...\n",
              "3374    151/2019-65742(2) \\n \\nАРБИТРАЖНЫЙ СУД ЯРОСЛАВ...\n",
              "3375    151/2019-68068(2) \\n \\nАРБИТРАЖНЫЙ СУД ЯРОСЛАВ...\n",
              "3376    88/2019-68098(2) \\n \\nАРБИТРАЖНЫЙ СУД ЯРОСЛАВС...\n",
              "Name: proc_text, Length: 2168, dtype: object"
            ]
          },
          "metadata": {
            "tags": []
          },
          "execution_count": 12
        }
      ]
    },
    {
      "cell_type": "code",
      "metadata": {
        "id": "yIw658YcM2FP"
      },
      "source": [
        "stanza_docs_list = [snlp(text) for text in arbitrage_rulings_df[\"proc_text\"]]\n",
        "\n",
        "#text = arbitrage_rulings_df[\"proc_text\"][2]\n",
        "#doc = snlp(text)"
      ],
      "execution_count": null,
      "outputs": []
    },
    {
      "cell_type": "code",
      "metadata": {
        "id": "y0LORNckw7s1"
      },
      "source": [
        "import pickle \n",
        "file_to_wr = open('drive/My Drive/data/stanza/stanza_docs_list.obj', 'wb')\n",
        "pickle.dump(stanza_docs_list, file_to_wr)\n"
      ],
      "execution_count": null,
      "outputs": []
    },
    {
      "cell_type": "code",
      "metadata": {
        "id": "nzSWnNRpYkeb"
      },
      "source": [
        "import pickle\n",
        "import stanza\n",
        "stanza_docs_list = pickle.load( open( \"drive/My Drive/data/stanza/stanza_docs_list.obj\", \"rb\" ) )\n"
      ],
      "execution_count": 4,
      "outputs": []
    },
    {
      "cell_type": "code",
      "metadata": {
        "colab": {
          "base_uri": "https://localhost:8080/"
        },
        "id": "JEjAznm8VHNT",
        "outputId": "b7289ba5-2495-4b5d-9fad-bbaf8fe75173"
      },
      "source": [
        "import re\n",
        "\n",
        "captured_match = re.search('суд', list(doc.ents)[0].text, flags=re.IGNORECASE)\n",
        "\n",
        "courts = [entity.text for entity in list(doc.ents) if re.search('суд', entity.text, flags=re.IGNORECASE) is not None]\n",
        "print(captured_match.string)\n",
        "courts\n",
        "#list(doc.ents)"
      ],
      "execution_count": null,
      "outputs": [
        {
          "output_type": "stream",
          "text": [
            "ТРИНАДЦАТЫЙ АРБИТРАЖНЫЙ АПЕЛЛЯЦИОННЫЙ СУД\n"
          ],
          "name": "stdout"
        },
        {
          "output_type": "execute_result",
          "data": {
            "text/plain": [
              "['ТРИНАДЦАТЫЙ АРБИТРАЖНЫЙ АПЕЛЛЯЦИОННЫЙ СУД',\n",
              " 'Тринадцатый арбитражный апелляционный суд',\n",
              " 'Арбитражного  суда  Санкт-Петербурга',\n",
              " 'Арбитражный  суд  Санкт-Петербурга']"
            ]
          },
          "metadata": {
            "tags": []
          },
          "execution_count": 52
        }
      ]
    },
    {
      "cell_type": "code",
      "metadata": {
        "colab": {
          "base_uri": "https://localhost:8080/",
          "height": 35
        },
        "id": "Uhen_w5YYrlO",
        "outputId": "253c9118-155e-441c-940c-8c4518846226"
      },
      "source": [
        "list(doc.ents)[12].text"
      ],
      "execution_count": null,
      "outputs": [
        {
          "output_type": "execute_result",
          "data": {
            "application/vnd.google.colaboratory.intrinsic+json": {
              "type": "string"
            },
            "text/plain": [
              "'Арбитражного  суда  Санкт-Петербурга'"
            ]
          },
          "metadata": {
            "tags": []
          },
          "execution_count": 82
        }
      ]
    },
    {
      "cell_type": "code",
      "metadata": {
        "id": "K58kmUt8Wrnh"
      },
      "source": [
        "import re\n",
        "list_to_filter = ['арбитражный суд', 'суда', 'суд', 'решения суда', 'арбитражного суда', 'арбитражным судом', 'указанное решение суда',\n",
        "                  'окружного суда', 'решение иностранного суда', 'апк рф, суд', 'апк рф, арбитражный суд', 'межрайонного суда',\n",
        "                  'судом', 'верховный суд', 'арбитражный суд г.', 'верховного суда']\n",
        "def find_courts(nlp_doc):\n",
        "  ent_list = [ent.text for ent in nlp_doc.entities]\n",
        "  courts = [entity for entity in ent_list if re.search('(^суд\\s|^суда\\s|^судом\\s|court|\\sсуд\\s|суда\\s|судом\\s|суд$|судом$|суда$)', entity, flags=re.IGNORECASE) is not None]\n",
        "  courts = [court.replace('\\n','').lower() for court in courts]\n",
        "  courts = [court for court in courts if court not in list_to_filter]\n",
        "  courts = [court for court in courts if re.search('российской|\\sрф$|\\sмоскв|\\sарбитражный апелляционный суд$', court, flags=re.IGNORECASE) is None]\n",
        "  return list(dict.fromkeys(courts))"
      ],
      "execution_count": 8,
      "outputs": []
    },
    {
      "cell_type": "code",
      "metadata": {
        "id": "5MblT464Vz3r",
        "colab": {
          "base_uri": "https://localhost:8080/"
        },
        "outputId": "b6b980fa-40ed-4b44-d9c3-152139d219fc"
      },
      "source": [
        "find_courts(stanza_docs_list[9])"
      ],
      "execution_count": null,
      "outputs": [
        {
          "output_type": "execute_result",
          "data": {
            "text/plain": [
              "['арбитражный суд республики башкортостан',\n",
              " 'арбитражный суд рб',\n",
              " 'международного арбитражного суда',\n",
              " 'арбитражный суд республики',\n",
              " 'федеральный арбитражный суд']"
            ]
          },
          "metadata": {
            "tags": []
          },
          "execution_count": 34
        }
      ]
    },
    {
      "cell_type": "code",
      "metadata": {
        "id": "iawy6bGWZJzu"
      },
      "source": [
        "courts_list = [find_courts(nlp_doc) for nlp_doc in stanza_docs_list]"
      ],
      "execution_count": 9,
      "outputs": []
    },
    {
      "cell_type": "code",
      "metadata": {
        "id": "Z8zjpTpE0MgB",
        "outputId": "47220950-1991-42fd-f690-550988c0bd2d",
        "colab": {
          "base_uri": "https://localhost:8080/"
        }
      },
      "source": [
        "courts_list_flat = [item for sublist in courts_list for item in sublist]\n",
        "courts_list_flat = list(dict.fromkeys(courts_list_flat))\n",
        "len(courts_list_flat)"
      ],
      "execution_count": 10,
      "outputs": [
        {
          "output_type": "execute_result",
          "data": {
            "text/plain": [
              "1713"
            ]
          },
          "metadata": {
            "tags": []
          },
          "execution_count": 10
        }
      ]
    },
    {
      "cell_type": "code",
      "metadata": {
        "id": "-hpNQ5El0pt4"
      },
      "source": [
        "from pymystem3 import Mystem\n",
        "#text = \"Красивая мама красиво мыла раму\"\n",
        "m = Mystem()\n",
        "#>>> lemmas = m.lemmatize(text)\n",
        "#>>> print(''.join(lemmas))\n",
        "courts_list_flat_lem = [''.join(m.lemmatize(text)) for text in courts_list_flat]"
      ],
      "execution_count": 17,
      "outputs": []
    },
    {
      "cell_type": "code",
      "metadata": {
        "id": "VjHMS9x7hDDC"
      },
      "source": [
        "courts_list_flat_lem = [court.replace('\\n', '') for court in courts_list_flat_lem]\n",
        "courts_list_flat_lem = list(dict.fromkeys(courts_list_flat_lem))"
      ],
      "execution_count": 18,
      "outputs": []
    },
    {
      "cell_type": "code",
      "metadata": {
        "id": "GPJe-H2hhm2-",
        "outputId": "62261635-2efd-41c6-cc4e-ec7080cce06c",
        "colab": {
          "base_uri": "https://localhost:8080/"
        }
      },
      "source": [
        "len(courts_list_flat_lem)"
      ],
      "execution_count": 19,
      "outputs": [
        {
          "output_type": "execute_result",
          "data": {
            "text/plain": [
              "1296"
            ]
          },
          "metadata": {
            "tags": []
          },
          "execution_count": 19
        }
      ]
    },
    {
      "cell_type": "code",
      "metadata": {
        "id": "CExh5qQ5iBMC"
      },
      "source": [
        "courts_list_flat_lem"
      ],
      "execution_count": null,
      "outputs": []
    },
    {
      "cell_type": "code",
      "metadata": {
        "id": "TcYaK0NW1JxZ"
      },
      "source": [
        "from nltk.stem.snowball import SnowballStemmer\n",
        "stemmer = SnowballStemmer(\"russian\") \n",
        "my_words = ['Василий', 'Геннадий', 'Виталий']\n",
        "\n",
        "l=[stemmer.stem(word) for word in my_words]\n"
      ],
      "execution_count": null,
      "outputs": []
    },
    {
      "cell_type": "code",
      "metadata": {
        "id": "BlIEnjh7b9mH"
      },
      "source": [
        "arbitrage_rulings_df.drop(['text'], inplace=True, axis=1)"
      ],
      "execution_count": null,
      "outputs": []
    },
    {
      "cell_type": "code",
      "metadata": {
        "id": "8Umg42RdZsGi"
      },
      "source": [
        "courts_list.__len__()\n",
        "arbitrage_rulings_df['courts_list'] = courts_list\n",
        "#arbitrage_rulings_df.join(final_dataset, how='left', on = )\n",
        "arbitrage_rulings_df = pd.merge(arbitrage_rulings_df, final_dataset[['Номер дела', 'plaintiff_country_1', 'plaintiff_country_2', 'defendant_country_1', 'defendant_country_2']], how = 'left', left_on='case_number', right_on='Номер дела')"
      ],
      "execution_count": null,
      "outputs": []
    },
    {
      "cell_type": "code",
      "metadata": {
        "id": "Tr9CpNCvch20"
      },
      "source": [
        "arbitrage_rulings_df.to_excel('drive/My Drive/data/courts_list.xlsx', encoding='utf-8', index=False)"
      ],
      "execution_count": null,
      "outputs": []
    },
    {
      "cell_type": "code",
      "metadata": {
        "id": "09Wcz1ITZWIJ",
        "colab": {
          "base_uri": "https://localhost:8080/"
        },
        "outputId": "5458253f-804c-417d-cec5-f92102eda7d8"
      },
      "source": [
        "# межрайонного , Херсон, минска\n",
        "#хозяйственным, суда комрат республики молдова\n",
        "# полтавской области, арбитражного суда туркменистана\n",
        "# житомирской\n",
        "# земельного суда мюнхена\n",
        "# межрайонного экономического суда\n",
        "np.array([len(court) for court in courts_list]).mean()\n",
        "\n"
      ],
      "execution_count": null,
      "outputs": [
        {
          "output_type": "execute_result",
          "data": {
            "text/plain": [
              "3.5276752767527677"
            ]
          },
          "metadata": {
            "tags": []
          },
          "execution_count": 92
        }
      ]
    },
    {
      "cell_type": "code",
      "metadata": {
        "id": "Mnqy2dM6lwM1"
      },
      "source": [
        "def pot_ukr_court(courts):\n",
        "  output = []\n",
        "  for court in courts:\n",
        "    if re.search('хозяйствен', '' if court ==[] else court, flags=re.IGNORECASE) is None:\n",
        "      pass\n",
        "    else:\n",
        "      output.append(court)\n",
        "  return output\n",
        "\n",
        "pot_ukr_court(courts_list[5])\n",
        "pot_ukr_court([])\n",
        "\n",
        "\n",
        "\n",
        "potential_ukr_courts = [pot_ukr_court(court) for court in courts_list]"
      ],
      "execution_count": null,
      "outputs": []
    },
    {
      "cell_type": "code",
      "metadata": {
        "id": "4DrYrTF8nNDi"
      },
      "source": [
        "potential_ukr_courts\n",
        "#courts_list[1]"
      ],
      "execution_count": null,
      "outputs": []
    },
    {
      "cell_type": "code",
      "metadata": {
        "id": "gaQEA1eoel6z"
      },
      "source": [
        "courts_list"
      ],
      "execution_count": null,
      "outputs": []
    },
    {
      "cell_type": "code",
      "metadata": {
        "id": "1erD9XxbNhZt"
      },
      "source": [
        "russian_courts_df = pd.read_excel(\"drive/My Drive/data/russian_courts.xlsx\")\n",
        "russian_courts_df['russian_courts'] = russian_courts_df.russian_courts.str.replace('\\s\\(.+\\)', '').str.lower()\n",
        "russian_courts_df['russian_courts'] = russian_courts_df['russian_courts'].apply(lambda x: ''.join(m.lemmatize(x))).str.replace('\\n', '')"
      ],
      "execution_count": 20,
      "outputs": []
    },
    {
      "cell_type": "code",
      "metadata": {
        "id": "ozPQf44aikCa",
        "outputId": "81a264f4-391a-422f-8b92-2aa4066db04f",
        "colab": {
          "base_uri": "https://localhost:8080/",
          "height": 402
        }
      },
      "source": [
        "russian_courts_df"
      ],
      "execution_count": 21,
      "outputs": [
        {
          "output_type": "execute_result",
          "data": {
            "text/html": [
              "<div>\n",
              "<style scoped>\n",
              "    .dataframe tbody tr th:only-of-type {\n",
              "        vertical-align: middle;\n",
              "    }\n",
              "\n",
              "    .dataframe tbody tr th {\n",
              "        vertical-align: top;\n",
              "    }\n",
              "\n",
              "    .dataframe thead th {\n",
              "        text-align: right;\n",
              "    }\n",
              "</style>\n",
              "<table border=\"1\" class=\"dataframe\">\n",
              "  <thead>\n",
              "    <tr style=\"text-align: right;\">\n",
              "      <th></th>\n",
              "      <th>russian_courts</th>\n",
              "    </tr>\n",
              "  </thead>\n",
              "  <tbody>\n",
              "    <tr>\n",
              "      <th>0</th>\n",
              "      <td>высокий арбитражный суд российский федерация</td>\n",
              "    </tr>\n",
              "    <tr>\n",
              "      <th>1</th>\n",
              "      <td>экономический коллегия верховный суд</td>\n",
              "    </tr>\n",
              "    <tr>\n",
              "      <th>2</th>\n",
              "      <td>арбитражный суд волго-вятский округ</td>\n",
              "    </tr>\n",
              "    <tr>\n",
              "      <th>3</th>\n",
              "      <td>арбитражный суд восточно-сибирский округ</td>\n",
              "    </tr>\n",
              "    <tr>\n",
              "      <th>4</th>\n",
              "      <td>арбитражный суд дальневосточный округ</td>\n",
              "    </tr>\n",
              "    <tr>\n",
              "      <th>...</th>\n",
              "      <td>...</td>\n",
              "    </tr>\n",
              "    <tr>\n",
              "      <th>112</th>\n",
              "      <td>арбитражный суд чеченский республика</td>\n",
              "    </tr>\n",
              "    <tr>\n",
              "      <th>113</th>\n",
              "      <td>арбитражный суд чувашский республика</td>\n",
              "    </tr>\n",
              "    <tr>\n",
              "      <th>114</th>\n",
              "      <td>арбитражный суд чукотский ао</td>\n",
              "    </tr>\n",
              "    <tr>\n",
              "      <th>115</th>\n",
              "      <td>арбитражный суд ямало-ненецкий ао</td>\n",
              "    </tr>\n",
              "    <tr>\n",
              "      <th>116</th>\n",
              "      <td>арбитражный суд ярославский область</td>\n",
              "    </tr>\n",
              "  </tbody>\n",
              "</table>\n",
              "<p>117 rows × 1 columns</p>\n",
              "</div>"
            ],
            "text/plain": [
              "                                   russian_courts\n",
              "0    высокий арбитражный суд российский федерация\n",
              "1            экономический коллегия верховный суд\n",
              "2             арбитражный суд волго-вятский округ\n",
              "3        арбитражный суд восточно-сибирский округ\n",
              "4           арбитражный суд дальневосточный округ\n",
              "..                                            ...\n",
              "112          арбитражный суд чеченский республика\n",
              "113          арбитражный суд чувашский республика\n",
              "114                  арбитражный суд чукотский ао\n",
              "115             арбитражный суд ямало-ненецкий ао\n",
              "116           арбитражный суд ярославский область\n",
              "\n",
              "[117 rows x 1 columns]"
            ]
          },
          "metadata": {
            "tags": []
          },
          "execution_count": 21
        }
      ]
    },
    {
      "cell_type": "code",
      "metadata": {
        "id": "j-L4iuYX9FtV"
      },
      "source": [
        "import fuzzymatcher\n",
        "fuzz_matched_courts = fuzzymatcher.fuzzy_left_join(pd.DataFrame(courts_list_flat_lem, columns=['entity']), russian_courts_df, left_on = \"entity\", right_on = \"russian_courts\")"
      ],
      "execution_count": 22,
      "outputs": []
    },
    {
      "cell_type": "code",
      "metadata": {
        "id": "eyVl9iVq_DMl"
      },
      "source": [
        "fuzz_matched_courts[['best_match_score', 'entity', 'russian_courts']].to_excel('drive/My Drive/data/only_courts_list.xlsx', encoding='utf-8', index=False)"
      ],
      "execution_count": 25,
      "outputs": []
    }
  ]
}